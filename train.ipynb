{
 "cells": [
  {
   "cell_type": "code",
   "execution_count": 1,
   "id": "d27794ab-8998-450e-b90c-6c4d103d4c29",
   "metadata": {
    "scrolled": true
   },
   "outputs": [
    {
     "name": "stdout",
     "output_type": "stream",
     "text": [
      "Collecting torch==2.0.1 (from -r requirements.txt (line 1))\n",
      "  Downloading torch-2.0.1-cp310-cp310-manylinux1_x86_64.whl.metadata (24 kB)\n",
      "Collecting torchvision==0.15.2 (from -r requirements.txt (line 2))\n",
      "  Downloading torchvision-0.15.2-cp310-cp310-manylinux1_x86_64.whl.metadata (11 kB)\n",
      "Collecting opencv-python==4.11.0.86 (from -r requirements.txt (line 3))\n",
      "  Downloading opencv_python-4.11.0.86-cp37-abi3-manylinux_2_17_x86_64.manylinux2014_x86_64.whl.metadata (20 kB)\n",
      "Collecting huggingface-hub==0.29.3 (from -r requirements.txt (line 4))\n",
      "  Downloading huggingface_hub-0.29.3-py3-none-any.whl.metadata (13 kB)\n",
      "Requirement already satisfied: Pillow==9.3.0 in /usr/local/lib/python3.10/dist-packages (from -r requirements.txt (line 5)) (9.3.0)\n",
      "Requirement already satisfied: numpy==1.24.1 in /usr/local/lib/python3.10/dist-packages (from -r requirements.txt (line 6)) (1.24.1)\n",
      "Collecting tqdm==4.67.1 (from -r requirements.txt (line 7))\n",
      "  Downloading tqdm-4.67.1-py3-none-any.whl.metadata (57 kB)\n",
      "\u001b[2K     \u001b[90m━━━━━━━━━━━━━━━━━━━━━━━━━━━━━━━━━━━━━━━━\u001b[0m \u001b[32m57.7/57.7 kB\u001b[0m \u001b[31m3.2 MB/s\u001b[0m eta \u001b[36m0:00:00\u001b[0m\n",
      "\u001b[?25hCollecting ultralytics==8.3.94 (from -r requirements.txt (line 8))\n",
      "  Downloading ultralytics-8.3.94-py3-none-any.whl.metadata (35 kB)\n",
      "Collecting scipy==1.15.2 (from -r requirements.txt (line 9))\n",
      "  Downloading scipy-1.15.2-cp310-cp310-manylinux_2_17_x86_64.manylinux2014_x86_64.whl.metadata (61 kB)\n",
      "\u001b[2K     \u001b[90m━━━━━━━━━━━━━━━━━━━━━━━━━━━━━━━━━━━━━━━━\u001b[0m \u001b[32m62.0/62.0 kB\u001b[0m \u001b[31m16.1 MB/s\u001b[0m eta \u001b[36m0:00:00\u001b[0m\n",
      "\u001b[?25hRequirement already satisfied: filelock in /usr/local/lib/python3.10/dist-packages (from torch==2.0.1->-r requirements.txt (line 1)) (3.9.0)\n",
      "Requirement already satisfied: typing-extensions in /usr/local/lib/python3.10/dist-packages (from torch==2.0.1->-r requirements.txt (line 1)) (4.4.0)\n",
      "Requirement already satisfied: sympy in /usr/local/lib/python3.10/dist-packages (from torch==2.0.1->-r requirements.txt (line 1)) (1.12)\n",
      "Requirement already satisfied: networkx in /usr/local/lib/python3.10/dist-packages (from torch==2.0.1->-r requirements.txt (line 1)) (3.0)\n",
      "Requirement already satisfied: jinja2 in /usr/local/lib/python3.10/dist-packages (from torch==2.0.1->-r requirements.txt (line 1)) (3.1.2)\n",
      "Collecting nvidia-cuda-nvrtc-cu11==11.7.99 (from torch==2.0.1->-r requirements.txt (line 1))\n",
      "  Downloading nvidia_cuda_nvrtc_cu11-11.7.99-2-py3-none-manylinux1_x86_64.whl.metadata (1.5 kB)\n",
      "Collecting nvidia-cuda-runtime-cu11==11.7.99 (from torch==2.0.1->-r requirements.txt (line 1))\n",
      "  Downloading nvidia_cuda_runtime_cu11-11.7.99-py3-none-manylinux1_x86_64.whl.metadata (1.6 kB)\n",
      "Collecting nvidia-cuda-cupti-cu11==11.7.101 (from torch==2.0.1->-r requirements.txt (line 1))\n",
      "  Downloading nvidia_cuda_cupti_cu11-11.7.101-py3-none-manylinux1_x86_64.whl.metadata (1.6 kB)\n",
      "Collecting nvidia-cudnn-cu11==8.5.0.96 (from torch==2.0.1->-r requirements.txt (line 1))\n",
      "  Downloading nvidia_cudnn_cu11-8.5.0.96-2-py3-none-manylinux1_x86_64.whl.metadata (1.6 kB)\n",
      "Collecting nvidia-cublas-cu11==11.10.3.66 (from torch==2.0.1->-r requirements.txt (line 1))\n",
      "  Downloading nvidia_cublas_cu11-11.10.3.66-py3-none-manylinux1_x86_64.whl.metadata (1.6 kB)\n",
      "Collecting nvidia-cufft-cu11==10.9.0.58 (from torch==2.0.1->-r requirements.txt (line 1))\n",
      "  Downloading nvidia_cufft_cu11-10.9.0.58-py3-none-manylinux2014_x86_64.whl.metadata (1.5 kB)\n",
      "Collecting nvidia-curand-cu11==10.2.10.91 (from torch==2.0.1->-r requirements.txt (line 1))\n",
      "  Downloading nvidia_curand_cu11-10.2.10.91-py3-none-manylinux1_x86_64.whl.metadata (1.6 kB)\n",
      "Collecting nvidia-cusolver-cu11==11.4.0.1 (from torch==2.0.1->-r requirements.txt (line 1))\n",
      "  Downloading nvidia_cusolver_cu11-11.4.0.1-2-py3-none-manylinux1_x86_64.whl.metadata (1.6 kB)\n",
      "Collecting nvidia-cusparse-cu11==11.7.4.91 (from torch==2.0.1->-r requirements.txt (line 1))\n",
      "  Downloading nvidia_cusparse_cu11-11.7.4.91-py3-none-manylinux1_x86_64.whl.metadata (1.6 kB)\n",
      "Collecting nvidia-nccl-cu11==2.14.3 (from torch==2.0.1->-r requirements.txt (line 1))\n",
      "  Downloading nvidia_nccl_cu11-2.14.3-py3-none-manylinux1_x86_64.whl.metadata (1.8 kB)\n",
      "Collecting nvidia-nvtx-cu11==11.7.91 (from torch==2.0.1->-r requirements.txt (line 1))\n",
      "  Downloading nvidia_nvtx_cu11-11.7.91-py3-none-manylinux1_x86_64.whl.metadata (1.7 kB)\n",
      "Collecting triton==2.0.0 (from torch==2.0.1->-r requirements.txt (line 1))\n",
      "  Downloading triton-2.0.0-1-cp310-cp310-manylinux2014_x86_64.manylinux_2_17_x86_64.whl.metadata (1.0 kB)\n",
      "Requirement already satisfied: requests in /usr/local/lib/python3.10/dist-packages (from torchvision==0.15.2->-r requirements.txt (line 2)) (2.31.0)\n",
      "Collecting fsspec>=2023.5.0 (from huggingface-hub==0.29.3->-r requirements.txt (line 4))\n",
      "  Downloading fsspec-2025.3.2-py3-none-any.whl.metadata (11 kB)\n",
      "Requirement already satisfied: packaging>=20.9 in /usr/local/lib/python3.10/dist-packages (from huggingface-hub==0.29.3->-r requirements.txt (line 4)) (23.2)\n",
      "Requirement already satisfied: pyyaml>=5.1 in /usr/local/lib/python3.10/dist-packages (from huggingface-hub==0.29.3->-r requirements.txt (line 4)) (6.0.1)\n",
      "Collecting matplotlib>=3.3.0 (from ultralytics==8.3.94->-r requirements.txt (line 8))\n",
      "  Downloading matplotlib-3.10.1-cp310-cp310-manylinux_2_17_x86_64.manylinux2014_x86_64.whl.metadata (11 kB)\n",
      "Requirement already satisfied: psutil in /usr/local/lib/python3.10/dist-packages (from ultralytics==8.3.94->-r requirements.txt (line 8)) (5.9.6)\n",
      "Collecting py-cpuinfo (from ultralytics==8.3.94->-r requirements.txt (line 8))\n",
      "  Downloading py_cpuinfo-9.0.0-py3-none-any.whl.metadata (794 bytes)\n",
      "Collecting pandas>=1.1.4 (from ultralytics==8.3.94->-r requirements.txt (line 8))\n",
      "  Downloading pandas-2.2.3-cp310-cp310-manylinux_2_17_x86_64.manylinux2014_x86_64.whl.metadata (89 kB)\n",
      "\u001b[2K     \u001b[90m━━━━━━━━━━━━━━━━━━━━━━━━━━━━━━━━━━━━━━━━\u001b[0m \u001b[32m89.9/89.9 kB\u001b[0m \u001b[31m17.0 MB/s\u001b[0m eta \u001b[36m0:00:00\u001b[0m\n",
      "\u001b[?25hCollecting seaborn>=0.11.0 (from ultralytics==8.3.94->-r requirements.txt (line 8))\n",
      "  Downloading seaborn-0.13.2-py3-none-any.whl.metadata (5.4 kB)\n",
      "Collecting ultralytics-thop>=2.0.0 (from ultralytics==8.3.94->-r requirements.txt (line 8))\n",
      "  Downloading ultralytics_thop-2.0.14-py3-none-any.whl.metadata (9.4 kB)\n",
      "Requirement already satisfied: setuptools in /usr/local/lib/python3.10/dist-packages (from nvidia-cublas-cu11==11.10.3.66->torch==2.0.1->-r requirements.txt (line 1)) (68.2.2)\n",
      "Requirement already satisfied: wheel in /usr/local/lib/python3.10/dist-packages (from nvidia-cublas-cu11==11.10.3.66->torch==2.0.1->-r requirements.txt (line 1)) (0.41.3)\n",
      "Collecting cmake (from triton==2.0.0->torch==2.0.1->-r requirements.txt (line 1))\n",
      "  Downloading cmake-4.0.0-py3-none-manylinux_2_17_x86_64.manylinux2014_x86_64.whl.metadata (6.3 kB)\n",
      "Collecting lit (from triton==2.0.0->torch==2.0.1->-r requirements.txt (line 1))\n",
      "  Downloading lit-18.1.8-py3-none-any.whl.metadata (2.5 kB)\n",
      "Collecting contourpy>=1.0.1 (from matplotlib>=3.3.0->ultralytics==8.3.94->-r requirements.txt (line 8))\n",
      "  Downloading contourpy-1.3.2-cp310-cp310-manylinux_2_17_x86_64.manylinux2014_x86_64.whl.metadata (5.5 kB)\n",
      "Collecting cycler>=0.10 (from matplotlib>=3.3.0->ultralytics==8.3.94->-r requirements.txt (line 8))\n",
      "  Downloading cycler-0.12.1-py3-none-any.whl.metadata (3.8 kB)\n",
      "Collecting fonttools>=4.22.0 (from matplotlib>=3.3.0->ultralytics==8.3.94->-r requirements.txt (line 8))\n",
      "  Downloading fonttools-4.57.0-cp310-cp310-manylinux_2_17_x86_64.manylinux2014_x86_64.whl.metadata (102 kB)\n",
      "\u001b[2K     \u001b[90m━━━━━━━━━━━━━━━━━━━━━━━━━━━━━━━━━━━━━━\u001b[0m \u001b[32m102.5/102.5 kB\u001b[0m \u001b[31m30.8 MB/s\u001b[0m eta \u001b[36m0:00:00\u001b[0m\n",
      "\u001b[?25hCollecting kiwisolver>=1.3.1 (from matplotlib>=3.3.0->ultralytics==8.3.94->-r requirements.txt (line 8))\n",
      "  Downloading kiwisolver-1.4.8-cp310-cp310-manylinux_2_12_x86_64.manylinux2010_x86_64.whl.metadata (6.2 kB)\n",
      "Requirement already satisfied: pyparsing>=2.3.1 in /usr/lib/python3/dist-packages (from matplotlib>=3.3.0->ultralytics==8.3.94->-r requirements.txt (line 8)) (2.4.7)\n",
      "Requirement already satisfied: python-dateutil>=2.7 in /usr/local/lib/python3.10/dist-packages (from matplotlib>=3.3.0->ultralytics==8.3.94->-r requirements.txt (line 8)) (2.8.2)\n",
      "Collecting pytz>=2020.1 (from pandas>=1.1.4->ultralytics==8.3.94->-r requirements.txt (line 8))\n",
      "  Downloading pytz-2025.2-py2.py3-none-any.whl.metadata (22 kB)\n",
      "Collecting tzdata>=2022.7 (from pandas>=1.1.4->ultralytics==8.3.94->-r requirements.txt (line 8))\n",
      "  Downloading tzdata-2025.2-py2.py3-none-any.whl.metadata (1.4 kB)\n",
      "Requirement already satisfied: charset-normalizer<4,>=2 in /usr/local/lib/python3.10/dist-packages (from requests->torchvision==0.15.2->-r requirements.txt (line 2)) (2.1.1)\n",
      "Requirement already satisfied: idna<4,>=2.5 in /usr/local/lib/python3.10/dist-packages (from requests->torchvision==0.15.2->-r requirements.txt (line 2)) (3.4)\n",
      "Requirement already satisfied: urllib3<3,>=1.21.1 in /usr/local/lib/python3.10/dist-packages (from requests->torchvision==0.15.2->-r requirements.txt (line 2)) (1.26.13)\n",
      "Requirement already satisfied: certifi>=2017.4.17 in /usr/local/lib/python3.10/dist-packages (from requests->torchvision==0.15.2->-r requirements.txt (line 2)) (2022.12.7)\n",
      "Requirement already satisfied: MarkupSafe>=2.0 in /usr/local/lib/python3.10/dist-packages (from jinja2->torch==2.0.1->-r requirements.txt (line 1)) (2.1.2)\n",
      "Requirement already satisfied: mpmath>=0.19 in /usr/local/lib/python3.10/dist-packages (from sympy->torch==2.0.1->-r requirements.txt (line 1)) (1.3.0)\n",
      "Requirement already satisfied: six>=1.5 in /usr/lib/python3/dist-packages (from python-dateutil>=2.7->matplotlib>=3.3.0->ultralytics==8.3.94->-r requirements.txt (line 8)) (1.16.0)\n",
      "Downloading torch-2.0.1-cp310-cp310-manylinux1_x86_64.whl (619.9 MB)\n",
      "\u001b[2K   \u001b[90m━━━━━━━━━━━━━━━━━━━━━━━━━━━━━━━━━━━━━━━━\u001b[0m \u001b[32m619.9/619.9 MB\u001b[0m \u001b[31m9.9 MB/s\u001b[0m eta \u001b[36m0:00:00\u001b[0m:00:01\u001b[0m00:01\u001b[0m\n",
      "\u001b[?25hDownloading torchvision-0.15.2-cp310-cp310-manylinux1_x86_64.whl (6.0 MB)\n",
      "\u001b[2K   \u001b[90m━━━━━━━━━━━━━━━━━━━━━━━━━━━━━━━━━━━━━━━━\u001b[0m \u001b[32m6.0/6.0 MB\u001b[0m \u001b[31m31.4 MB/s\u001b[0m eta \u001b[36m0:00:00\u001b[0m00:01\u001b[0m00:01\u001b[0m\n",
      "\u001b[?25hDownloading opencv_python-4.11.0.86-cp37-abi3-manylinux_2_17_x86_64.manylinux2014_x86_64.whl (63.0 MB)\n",
      "\u001b[2K   \u001b[90m━━━━━━━━━━━━━━━━━━━━━━━━━━━━━━━━━━━━━━━━\u001b[0m \u001b[32m63.0/63.0 MB\u001b[0m \u001b[31m81.7 MB/s\u001b[0m eta \u001b[36m0:00:00\u001b[0m:00:01\u001b[0m00:01\u001b[0m\n",
      "\u001b[?25hDownloading huggingface_hub-0.29.3-py3-none-any.whl (468 kB)\n",
      "\u001b[2K   \u001b[90m━━━━━━━━━━━━━━━━━━━━━━━━━━━━━━━━━━━━━━━━\u001b[0m \u001b[32m469.0/469.0 kB\u001b[0m \u001b[31m12.8 MB/s\u001b[0m eta \u001b[36m0:00:00\u001b[0m00:01\u001b[0m\n",
      "\u001b[?25hDownloading tqdm-4.67.1-py3-none-any.whl (78 kB)\n",
      "\u001b[2K   \u001b[90m━━━━━━━━━━━━━━━━━━━━━━━━━━━━━━━━━━━━━━━━\u001b[0m \u001b[32m78.5/78.5 kB\u001b[0m \u001b[31m31.0 MB/s\u001b[0m eta \u001b[36m0:00:00\u001b[0m\n",
      "\u001b[?25hDownloading ultralytics-8.3.94-py3-none-any.whl (949 kB)\n",
      "\u001b[2K   \u001b[90m━━━━━━━━━━━━━━━━━━━━━━━━━━━━━━━━━━━━━━━\u001b[0m \u001b[32m949.8/949.8 kB\u001b[0m \u001b[31m141.5 MB/s\u001b[0m eta \u001b[36m0:00:00\u001b[0m\n",
      "\u001b[?25hDownloading scipy-1.15.2-cp310-cp310-manylinux_2_17_x86_64.manylinux2014_x86_64.whl (37.6 MB)\n",
      "\u001b[2K   \u001b[90m━━━━━━━━━━━━━━━━━━━━━━━━━━━━━━━━━━━━━━━━\u001b[0m \u001b[32m37.6/37.6 MB\u001b[0m \u001b[31m100.8 MB/s\u001b[0m eta \u001b[36m0:00:00\u001b[0m00:01\u001b[0m00:01\u001b[0m\n",
      "\u001b[?25hDownloading nvidia_cublas_cu11-11.10.3.66-py3-none-manylinux1_x86_64.whl (317.1 MB)\n",
      "\u001b[2K   \u001b[90m━━━━━━━━━━━━━━━━━━━━━━━━━━━━━━━━━━━━━━━━\u001b[0m \u001b[32m317.1/317.1 MB\u001b[0m \u001b[31m21.1 MB/s\u001b[0m eta \u001b[36m0:00:00\u001b[0m00:01\u001b[0m00:01\u001b[0m\n",
      "\u001b[?25hDownloading nvidia_cuda_cupti_cu11-11.7.101-py3-none-manylinux1_x86_64.whl (11.8 MB)\n",
      "\u001b[2K   \u001b[90m━━━━━━━━━━━━━━━━━━━━━━━━━━━━━━━━━━━━━━━━\u001b[0m \u001b[32m11.8/11.8 MB\u001b[0m \u001b[31m32.5 MB/s\u001b[0m eta \u001b[36m0:00:00\u001b[0m00:01\u001b[0m00:01\u001b[0m\n",
      "\u001b[?25hDownloading nvidia_cuda_nvrtc_cu11-11.7.99-2-py3-none-manylinux1_x86_64.whl (21.0 MB)\n",
      "\u001b[2K   \u001b[90m━━━━━━━━━━━━━━━━━━━━━━━━━━━━━━━━━━━━━━━━\u001b[0m \u001b[32m21.0/21.0 MB\u001b[0m \u001b[31m33.7 MB/s\u001b[0m eta \u001b[36m0:00:00\u001b[0m00:01\u001b[0m00:01\u001b[0m\n",
      "\u001b[?25hDownloading nvidia_cuda_runtime_cu11-11.7.99-py3-none-manylinux1_x86_64.whl (849 kB)\n",
      "\u001b[2K   \u001b[90m━━━━━━━━━━━━━━━━━━━━━━━━━━━━━━━━━━━━━━━━\u001b[0m \u001b[32m849.3/849.3 kB\u001b[0m \u001b[31m66.6 MB/s\u001b[0m eta \u001b[36m0:00:00\u001b[0m\n",
      "\u001b[?25hDownloading nvidia_cudnn_cu11-8.5.0.96-2-py3-none-manylinux1_x86_64.whl (557.1 MB)\n",
      "\u001b[2K   \u001b[90m━━━━━━━━━━━━━━━━━━━━━━━━━━━━━━━━━━━━━━━━\u001b[0m \u001b[32m557.1/557.1 MB\u001b[0m \u001b[31m13.0 MB/s\u001b[0m eta \u001b[36m0:00:00\u001b[0m00:01\u001b[0m00:01\u001b[0m\n",
      "\u001b[?25hDownloading nvidia_cufft_cu11-10.9.0.58-py3-none-manylinux2014_x86_64.whl (168.4 MB)\n",
      "\u001b[2K   \u001b[90m━━━━━━━━━━━━━━━━━━━━━━━━━━━━━━━━━━━━━━━━\u001b[0m \u001b[32m168.4/168.4 MB\u001b[0m \u001b[31m20.8 MB/s\u001b[0m eta \u001b[36m0:00:00\u001b[0m00:01\u001b[0m00:01\u001b[0m\n",
      "\u001b[?25hDownloading nvidia_curand_cu11-10.2.10.91-py3-none-manylinux1_x86_64.whl (54.6 MB)\n",
      "\u001b[2K   \u001b[90m━━━━━━━━━━━━━━━━━━━━━━━━━━━━━━━━━━━━━━━━\u001b[0m \u001b[32m54.6/54.6 MB\u001b[0m \u001b[31m25.2 MB/s\u001b[0m eta \u001b[36m0:00:00\u001b[0m00:01\u001b[0m00:01\u001b[0m\n",
      "\u001b[?25hDownloading nvidia_cusolver_cu11-11.4.0.1-2-py3-none-manylinux1_x86_64.whl (102.6 MB)\n",
      "\u001b[2K   \u001b[90m━━━━━━━━━━━━━━━━━━━━━━━━━━━━━━━━━━━━━━━━\u001b[0m \u001b[32m102.6/102.6 MB\u001b[0m \u001b[31m24.9 MB/s\u001b[0m eta \u001b[36m0:00:00\u001b[0m00:01\u001b[0m0:01\u001b[0m\n",
      "\u001b[?25hDownloading nvidia_cusparse_cu11-11.7.4.91-py3-none-manylinux1_x86_64.whl (173.2 MB)\n",
      "\u001b[2K   \u001b[90m━━━━━━━━━━━━━━━━━━━━━━━━━━━━━━━━━━━━━━━━\u001b[0m \u001b[32m173.2/173.2 MB\u001b[0m \u001b[31m23.6 MB/s\u001b[0m eta \u001b[36m0:00:00\u001b[0m00:01\u001b[0m00:01\u001b[0m\n",
      "\u001b[?25hDownloading nvidia_nccl_cu11-2.14.3-py3-none-manylinux1_x86_64.whl (177.1 MB)\n",
      "\u001b[2K   \u001b[90m━━━━━━━━━━━━━━━━━━━━━━━━━━━━━━━━━━━━━━━━\u001b[0m \u001b[32m177.1/177.1 MB\u001b[0m \u001b[31m23.8 MB/s\u001b[0m eta \u001b[36m0:00:00\u001b[0m00:01\u001b[0m00:01\u001b[0m\n",
      "\u001b[?25hDownloading nvidia_nvtx_cu11-11.7.91-py3-none-manylinux1_x86_64.whl (98 kB)\n",
      "\u001b[2K   \u001b[90m━━━━━━━━━━━━━━━━━━━━━━━━━━━━━━━━━━━━━━━━\u001b[0m \u001b[32m98.6/98.6 kB\u001b[0m \u001b[31m38.4 MB/s\u001b[0m eta \u001b[36m0:00:00\u001b[0m\n",
      "\u001b[?25hDownloading triton-2.0.0-1-cp310-cp310-manylinux2014_x86_64.manylinux_2_17_x86_64.whl (63.3 MB)\n",
      "\u001b[2K   \u001b[90m━━━━━━━━━━━━━━━━━━━━━━━━━━━━━━━━━━━━━━━━\u001b[0m \u001b[32m63.3/63.3 MB\u001b[0m \u001b[31m26.1 MB/s\u001b[0m eta \u001b[36m0:00:00\u001b[0m00:01\u001b[0m00:01\u001b[0m\n",
      "\u001b[?25hDownloading fsspec-2025.3.2-py3-none-any.whl (194 kB)\n",
      "\u001b[2K   \u001b[90m━━━━━━━━━━━━━━━━━━━━━━━━━━━━━━━━━━━━━━━━\u001b[0m \u001b[32m194.4/194.4 kB\u001b[0m \u001b[31m61.6 MB/s\u001b[0m eta \u001b[36m0:00:00\u001b[0m\n",
      "\u001b[?25hDownloading matplotlib-3.10.1-cp310-cp310-manylinux_2_17_x86_64.manylinux2014_x86_64.whl (8.6 MB)\n",
      "\u001b[2K   \u001b[90m━━━━━━━━━━━━━━━━━━━━━━━━━━━━━━━━━━━━━━━━\u001b[0m \u001b[32m8.6/8.6 MB\u001b[0m \u001b[31m62.4 MB/s\u001b[0m eta \u001b[36m0:00:00\u001b[0ma \u001b[36m0:00:01\u001b[0m\n",
      "\u001b[?25hDownloading pandas-2.2.3-cp310-cp310-manylinux_2_17_x86_64.manylinux2014_x86_64.whl (13.1 MB)\n",
      "\u001b[2K   \u001b[90m━━━━━━━━━━━━━━━━━━━━━━━━━━━━━━━━━━━━━━━━\u001b[0m \u001b[32m13.1/13.1 MB\u001b[0m \u001b[31m107.9 MB/s\u001b[0m eta \u001b[36m0:00:00\u001b[0m00:01\u001b[0m0:01\u001b[0m\n",
      "\u001b[?25hDownloading seaborn-0.13.2-py3-none-any.whl (294 kB)\n",
      "\u001b[2K   \u001b[90m━━━━━━━━━━━━━━━━━━━━━━━━━━━━━━━━━━━━━━━━\u001b[0m \u001b[32m294.9/294.9 kB\u001b[0m \u001b[31m80.8 MB/s\u001b[0m eta \u001b[36m0:00:00\u001b[0m\n",
      "\u001b[?25hDownloading ultralytics_thop-2.0.14-py3-none-any.whl (26 kB)\n",
      "Downloading py_cpuinfo-9.0.0-py3-none-any.whl (22 kB)\n",
      "Downloading contourpy-1.3.2-cp310-cp310-manylinux_2_17_x86_64.manylinux2014_x86_64.whl (325 kB)\n",
      "\u001b[2K   \u001b[90m━━━━━━━━━━━━━━━━━━━━━━━━━━━━━━━━━━━━━━━━\u001b[0m \u001b[32m325.0/325.0 kB\u001b[0m \u001b[31m71.8 MB/s\u001b[0m eta \u001b[36m0:00:00\u001b[0m\n",
      "\u001b[?25hDownloading cycler-0.12.1-py3-none-any.whl (8.3 kB)\n",
      "Downloading fonttools-4.57.0-cp310-cp310-manylinux_2_17_x86_64.manylinux2014_x86_64.whl (4.6 MB)\n",
      "\u001b[2K   \u001b[90m━━━━━━━━━━━━━━━━━━━━━━━━━━━━━━━━━━━━━━━━\u001b[0m \u001b[32m4.6/4.6 MB\u001b[0m \u001b[31m108.8 MB/s\u001b[0m eta \u001b[36m0:00:00\u001b[0m00:01\u001b[0m\n",
      "\u001b[?25hDownloading kiwisolver-1.4.8-cp310-cp310-manylinux_2_12_x86_64.manylinux2010_x86_64.whl (1.6 MB)\n",
      "\u001b[2K   \u001b[90m━━━━━━━━━━━━━━━━━━━━━━━━━━━━━━━━━━━━━━━━\u001b[0m \u001b[32m1.6/1.6 MB\u001b[0m \u001b[31m116.8 MB/s\u001b[0m eta \u001b[36m0:00:00\u001b[0m\n",
      "\u001b[?25hDownloading pytz-2025.2-py2.py3-none-any.whl (509 kB)\n",
      "\u001b[2K   \u001b[90m━━━━━━━━━━━━━━━━━━━━━━━━━━━━━━━━━━━━━━━\u001b[0m \u001b[32m509.2/509.2 kB\u001b[0m \u001b[31m102.5 MB/s\u001b[0m eta \u001b[36m0:00:00\u001b[0m\n",
      "\u001b[?25hDownloading tzdata-2025.2-py2.py3-none-any.whl (347 kB)\n",
      "\u001b[2K   \u001b[90m━━━━━━━━━━━━━━━━━━━━━━━━━━━━━━━━━━━━━━━━\u001b[0m \u001b[32m347.8/347.8 kB\u001b[0m \u001b[31m61.0 MB/s\u001b[0m eta \u001b[36m0:00:00\u001b[0m\n",
      "\u001b[?25hDownloading cmake-4.0.0-py3-none-manylinux_2_17_x86_64.manylinux2014_x86_64.whl (27.9 MB)\n",
      "\u001b[2K   \u001b[90m━━━━━━━━━━━━━━━━━━━━━━━━━━━━━━━━━━━━━━━━\u001b[0m \u001b[32m27.9/27.9 MB\u001b[0m \u001b[31m117.2 MB/s\u001b[0m eta \u001b[36m0:00:00\u001b[0m00:01\u001b[0m00:01\u001b[0m\n",
      "\u001b[?25hDownloading lit-18.1.8-py3-none-any.whl (96 kB)\n",
      "\u001b[2K   \u001b[90m━━━━━━━━━━━━━━━━━━━━━━━━━━━━━━━━━━━━━━━━\u001b[0m \u001b[32m96.4/96.4 kB\u001b[0m \u001b[31m39.9 MB/s\u001b[0m eta \u001b[36m0:00:00\u001b[0m\n",
      "\u001b[?25hInstalling collected packages: pytz, py-cpuinfo, lit, tzdata, tqdm, scipy, opencv-python, nvidia-nvtx-cu11, nvidia-nccl-cu11, nvidia-cusparse-cu11, nvidia-curand-cu11, nvidia-cufft-cu11, nvidia-cuda-runtime-cu11, nvidia-cuda-nvrtc-cu11, nvidia-cuda-cupti-cu11, nvidia-cublas-cu11, kiwisolver, fsspec, fonttools, cycler, contourpy, cmake, pandas, nvidia-cusolver-cu11, nvidia-cudnn-cu11, matplotlib, huggingface-hub, seaborn, triton, torch, ultralytics-thop, torchvision, ultralytics\n",
      "  Attempting uninstall: fsspec\n",
      "    Found existing installation: fsspec 2023.4.0\n",
      "    Uninstalling fsspec-2023.4.0:\n",
      "      Successfully uninstalled fsspec-2023.4.0\n",
      "  Attempting uninstall: triton\n",
      "    Found existing installation: triton 2.1.0\n",
      "    Uninstalling triton-2.1.0:\n",
      "      Successfully uninstalled triton-2.1.0\n",
      "  Attempting uninstall: torch\n",
      "    Found existing installation: torch 2.1.0+cu118\n",
      "    Uninstalling torch-2.1.0+cu118:\n",
      "      Successfully uninstalled torch-2.1.0+cu118\n",
      "  Attempting uninstall: torchvision\n",
      "    Found existing installation: torchvision 0.16.0+cu118\n",
      "    Uninstalling torchvision-0.16.0+cu118:\n",
      "      Successfully uninstalled torchvision-0.16.0+cu118\n",
      "\u001b[31mERROR: pip's dependency resolver does not currently take into account all the packages that are installed. This behaviour is the source of the following dependency conflicts.\n",
      "torchaudio 2.1.0+cu118 requires torch==2.1.0, but you have torch 2.0.1 which is incompatible.\u001b[0m\u001b[31m\n",
      "\u001b[0mSuccessfully installed cmake-4.0.0 contourpy-1.3.2 cycler-0.12.1 fonttools-4.57.0 fsspec-2025.3.2 huggingface-hub-0.29.3 kiwisolver-1.4.8 lit-18.1.8 matplotlib-3.10.1 nvidia-cublas-cu11-11.10.3.66 nvidia-cuda-cupti-cu11-11.7.101 nvidia-cuda-nvrtc-cu11-11.7.99 nvidia-cuda-runtime-cu11-11.7.99 nvidia-cudnn-cu11-8.5.0.96 nvidia-cufft-cu11-10.9.0.58 nvidia-curand-cu11-10.2.10.91 nvidia-cusolver-cu11-11.4.0.1 nvidia-cusparse-cu11-11.7.4.91 nvidia-nccl-cu11-2.14.3 nvidia-nvtx-cu11-11.7.91 opencv-python-4.11.0.86 pandas-2.2.3 py-cpuinfo-9.0.0 pytz-2025.2 scipy-1.15.2 seaborn-0.13.2 torch-2.0.1 torchvision-0.15.2 tqdm-4.67.1 triton-2.0.0 tzdata-2025.2 ultralytics-8.3.94 ultralytics-thop-2.0.14\n",
      "\u001b[33mWARNING: Running pip as the 'root' user can result in broken permissions and conflicting behaviour with the system package manager. It is recommended to use a virtual environment instead: https://pip.pypa.io/warnings/venv\u001b[0m\u001b[33m\n",
      "\u001b[0m\n",
      "\u001b[1m[\u001b[0m\u001b[34;49mnotice\u001b[0m\u001b[1;39;49m]\u001b[0m\u001b[39;49m A new release of pip is available: \u001b[0m\u001b[31;49m23.3.1\u001b[0m\u001b[39;49m -> \u001b[0m\u001b[32;49m25.0.1\u001b[0m\n",
      "\u001b[1m[\u001b[0m\u001b[34;49mnotice\u001b[0m\u001b[1;39;49m]\u001b[0m\u001b[39;49m To update, run: \u001b[0m\u001b[32;49mpython -m pip install --upgrade pip\u001b[0m\n"
     ]
    }
   ],
   "source": [
    "!pip install -r requirements.txt"
   ]
  },
  {
   "cell_type": "code",
   "execution_count": 2,
   "id": "f67f9574-110f-43dc-96af-e9cb6b0b8bf4",
   "metadata": {},
   "outputs": [],
   "source": [
    "import torch\n",
    "import numpy as np\n",
    "import random\n",
    "\n",
    "seed = 0\n",
    "random.seed(seed)\n",
    "np.random.seed(seed)\n",
    "torch.manual_seed(seed)\n",
    "torch.cuda.manual_seed_all(seed)\n",
    "torch.backends.cudnn.deterministic = True\n",
    "torch.backends.cudnn.benchmark = False"
   ]
  },
  {
   "cell_type": "code",
   "execution_count": 3,
   "id": "ed851d71-c479-4067-9289-8de0d891d512",
   "metadata": {},
   "outputs": [],
   "source": [
    "from pathlib import Path\n",
    "\n",
    "from utils.data_preparation import DataPreparer\n",
    "from da_fine_tuning.dataset_preparer import DatasetPreparer\n",
    "from da_fine_tuning.fine_tune_depth_anything import DepthAnythingFineTuner"
   ]
  },
  {
   "cell_type": "code",
   "execution_count": 4,
   "id": "791bb7eb-d793-4859-b65b-2b65b6ce53c3",
   "metadata": {},
   "outputs": [],
   "source": [
    "# Imprtant! Set directory where files will be stored\n",
    "workspace_path = Path('/workspace/output')\n",
    "if not workspace_path.exists():\n",
    "    workspace_path.mkdir()"
   ]
  },
  {
   "cell_type": "code",
   "execution_count": 5,
   "id": "48241b72-53e5-423e-a10b-5c5051028f6d",
   "metadata": {
    "scrolled": true
   },
   "outputs": [
    {
     "name": "stdout",
     "output_type": "stream",
     "text": [
      "Downloading test dataset\n"
     ]
    },
    {
     "data": {
      "application/vnd.jupyter.widget-view+json": {
       "model_id": "ba79d20145a4445798ccfbb1cd439bf2",
       "version_major": 2,
       "version_minor": 0
      },
      "text/plain": [
       "test.zip:   0%|          | 0.00/6.78G [00:00<?, ?B/s]"
      ]
     },
     "metadata": {},
     "output_type": "display_data"
    },
    {
     "name": "stdout",
     "output_type": "stream",
     "text": [
      "Extracting test dataset\n"
     ]
    },
    {
     "name": "stderr",
     "output_type": "stream",
     "text": [
      "Process games: 100%|██████████| 20/20 [00:03<00:00,  5.50it/s]\n",
      "Fix depths in /workspace/output/test_depths: 100%|██████████| 1423/1423 [00:33<00:00, 42.13it/s]\n"
     ]
    },
    {
     "name": "stdout",
     "output_type": "stream",
     "text": [
      "Downloading valid dataset\n"
     ]
    },
    {
     "data": {
      "application/vnd.jupyter.widget-view+json": {
       "model_id": "e68cf16cb293412d9256d2bcf707ed4a",
       "version_major": 2,
       "version_minor": 0
      },
      "text/plain": [
       "valid.zip:   0%|          | 0.00/6.96G [00:00<?, ?B/s]"
      ]
     },
     "metadata": {},
     "output_type": "display_data"
    },
    {
     "name": "stdout",
     "output_type": "stream",
     "text": [
      "Extracting valid dataset\n"
     ]
    },
    {
     "name": "stderr",
     "output_type": "stream",
     "text": [
      "Process games: 100%|██████████| 21/21 [00:03<00:00,  5.76it/s]\n",
      "Fix depths in /workspace/output/valid_depths: 100%|██████████| 1441/1441 [00:30<00:00, 46.60it/s]\n"
     ]
    },
    {
     "name": "stdout",
     "output_type": "stream",
     "text": [
      "Downloading train dataset\n"
     ]
    },
    {
     "data": {
      "application/vnd.jupyter.widget-view+json": {
       "model_id": "a70a0f17c8c543f4b93b1f1aa22e8844",
       "version_major": 2,
       "version_minor": 0
      },
      "text/plain": [
       "train.zip:   0%|          | 0.00/19.9G [00:00<?, ?B/s]"
      ]
     },
     "metadata": {},
     "output_type": "display_data"
    },
    {
     "name": "stdout",
     "output_type": "stream",
     "text": [
      "Extracting train dataset\n"
     ]
    },
    {
     "name": "stderr",
     "output_type": "stream",
     "text": [
      "Process games: 100%|██████████| 21/21 [00:21<00:00,  1.01s/it]\n",
      "Fix depths in /workspace/output/train_depths: 100%|██████████| 3864/3864 [01:25<00:00, 45.09it/s]\n"
     ]
    }
   ],
   "source": [
    "data_preparer = DataPreparer(workspace_path)\n",
    "data_preparer.prepare()"
   ]
  },
  {
   "cell_type": "code",
   "execution_count": 6,
   "id": "dae03aa3-74f7-40e3-a13e-ebb1e205f72e",
   "metadata": {},
   "outputs": [
    {
     "name": "stderr",
     "output_type": "stream",
     "text": [
      "Prepare masks: 100%|██████████| 3864/3864 [14:49<00:00,  4.34it/s]\n",
      "Prepare masks: 100%|██████████| 1441/1441 [05:27<00:00,  4.40it/s]\n",
      "Prepare masks: 100%|██████████| 1423/1423 [05:30<00:00,  4.30it/s]\n"
     ]
    }
   ],
   "source": [
    "dataset_preparer = DatasetPreparer()\n",
    "dataset_preparer.prepare_dataset(workspace_path / 'train_images', workspace_path / 'train_masks')\n",
    "dataset_preparer.prepare_dataset(workspace_path / 'valid_images', workspace_path / 'valid_masks')\n",
    "dataset_preparer.prepare_dataset(workspace_path / 'test_images', workspace_path / 'test_masks')"
   ]
  },
  {
   "cell_type": "code",
   "execution_count": 7,
   "id": "d162fa8c-af09-4364-8256-e73b900e3bac",
   "metadata": {},
   "outputs": [
    {
     "data": {
      "application/vnd.jupyter.widget-view+json": {
       "model_id": "39e406ec0f37483ebb1b9cd1d1cc7b08",
       "version_major": 2,
       "version_minor": 0
      },
      "text/plain": [
       "config.json:   0%|          | 0.00/116 [00:00<?, ?B/s]"
      ]
     },
     "metadata": {},
     "output_type": "display_data"
    },
    {
     "name": "stderr",
     "output_type": "stream",
     "text": [
      "xFormers not available\n",
      "xFormers not available\n"
     ]
    },
    {
     "data": {
      "application/vnd.jupyter.widget-view+json": {
       "model_id": "41845717094b4693843f99829ede963d",
       "version_major": 2,
       "version_minor": 0
      },
      "text/plain": [
       "pytorch_model.bin:   0%|          | 0.00/1.34G [00:00<?, ?B/s]"
      ]
     },
     "metadata": {},
     "output_type": "display_data"
    },
    {
     "name": "stderr",
     "output_type": "stream",
     "text": [
      "/usr/local/lib/python3.10/dist-packages/torch/_utils.py:776: UserWarning: TypedStorage is deprecated. It will be removed in the future and UntypedStorage will be the only storage class. This should only matter to you if you are using storages directly.  To access UntypedStorage directly, use tensor.untyped_storage() instead of tensor.storage()\n",
      "  return self.fget.__get__(instance, owner)()\n"
     ]
    }
   ],
   "source": [
    "da_fine_tuner = DepthAnythingFineTuner(\n",
    "    depth_train_path=workspace_path / 'train_depths',\n",
    "    depth_val_path=workspace_path / 'valid_depths',\n",
    "    depth_test_path=workspace_path / 'test_depths',\n",
    ")"
   ]
  },
  {
   "cell_type": "code",
   "execution_count": 8,
   "id": "14bf2829-87a3-4778-bfae-b0039cb97464",
   "metadata": {
    "scrolled": true
   },
   "outputs": [
    {
     "name": "stderr",
     "output_type": "stream",
     "text": [
      "Adjust to pred: 100%|██████████| 3864/3864 [17:15<00:00,  3.73it/s]\n"
     ]
    }
   ],
   "source": [
    "da_fine_tuner.adjust_depths_to_pred()"
   ]
  },
  {
   "cell_type": "code",
   "execution_count": 9,
   "id": "8a026931-ec59-4422-bf9c-c72684298bee",
   "metadata": {},
   "outputs": [
    {
     "name": "stderr",
     "output_type": "stream",
     "text": [
      "Epoch 1/24: 100%|██████████| 3864/3864 [30:45<00:00,  2.09it/s, avg_loss=0.148, loss=0.0858] \n"
     ]
    },
    {
     "name": "stdout",
     "output_type": "stream",
     "text": [
      "Epoch 1/24, Loss: 0.1476\n"
     ]
    },
    {
     "name": "stderr",
     "output_type": "stream",
     "text": [
      "Val error: 100%|██████████| 1441/1441 [06:37<00:00,  3.63it/s, rse=0.855, silog_err=0.418]\n"
     ]
    },
    {
     "name": "stdout",
     "output_type": "stream",
     "text": [
      "Val loss: silog: 0.4183, sq: 0.8547\n"
     ]
    },
    {
     "name": "stderr",
     "output_type": "stream",
     "text": [
      "Epoch 2/24: 100%|██████████| 3864/3864 [30:42<00:00,  2.10it/s, avg_loss=0.0918, loss=0.0411] \n"
     ]
    },
    {
     "name": "stdout",
     "output_type": "stream",
     "text": [
      "Epoch 2/24, Loss: 0.0918\n"
     ]
    },
    {
     "name": "stderr",
     "output_type": "stream",
     "text": [
      "Val error: 100%|██████████| 1441/1441 [06:15<00:00,  3.84it/s, rse=0.719, silog_err=0.389]\n"
     ]
    },
    {
     "name": "stdout",
     "output_type": "stream",
     "text": [
      "Val loss: silog: 0.3893, sq: 0.7189\n"
     ]
    },
    {
     "name": "stderr",
     "output_type": "stream",
     "text": [
      "Epoch 3/24: 100%|██████████| 3864/3864 [30:17<00:00,  2.13it/s, avg_loss=0.0776, loss=0.0236] \n"
     ]
    },
    {
     "name": "stdout",
     "output_type": "stream",
     "text": [
      "Epoch 3/24, Loss: 0.0776\n"
     ]
    },
    {
     "name": "stderr",
     "output_type": "stream",
     "text": [
      "Val error: 100%|██████████| 1441/1441 [06:27<00:00,  3.72it/s, rse=0.682, silog_err=0.374]\n"
     ]
    },
    {
     "name": "stdout",
     "output_type": "stream",
     "text": [
      "Val loss: silog: 0.3735, sq: 0.6820\n"
     ]
    },
    {
     "name": "stderr",
     "output_type": "stream",
     "text": [
      "Epoch 4/24: 100%|██████████| 3864/3864 [30:55<00:00,  2.08it/s, avg_loss=0.068, loss=0.151]   \n"
     ]
    },
    {
     "name": "stdout",
     "output_type": "stream",
     "text": [
      "Epoch 4/24, Loss: 0.0680\n"
     ]
    },
    {
     "name": "stderr",
     "output_type": "stream",
     "text": [
      "Val error: 100%|██████████| 1441/1441 [06:28<00:00,  3.71it/s, rse=0.761, silog_err=0.405]\n"
     ]
    },
    {
     "name": "stdout",
     "output_type": "stream",
     "text": [
      "Val loss: silog: 0.4046, sq: 0.7612\n"
     ]
    },
    {
     "name": "stderr",
     "output_type": "stream",
     "text": [
      "Epoch 5/24: 100%|██████████| 3864/3864 [30:32<00:00,  2.11it/s, avg_loss=0.0634, loss=0.0348] \n"
     ]
    },
    {
     "name": "stdout",
     "output_type": "stream",
     "text": [
      "Epoch 5/24, Loss: 0.0634\n"
     ]
    },
    {
     "name": "stderr",
     "output_type": "stream",
     "text": [
      "Val error: 100%|██████████| 1441/1441 [06:18<00:00,  3.81it/s, rse=0.647, silog_err=0.365]\n"
     ]
    },
    {
     "name": "stdout",
     "output_type": "stream",
     "text": [
      "Val loss: silog: 0.3655, sq: 0.6473\n"
     ]
    },
    {
     "name": "stderr",
     "output_type": "stream",
     "text": [
      "Epoch 6/24: 100%|██████████| 3864/3864 [30:51<00:00,  2.09it/s, avg_loss=0.0558, loss=0.0319] \n"
     ]
    },
    {
     "name": "stdout",
     "output_type": "stream",
     "text": [
      "Epoch 6/24, Loss: 0.0558\n"
     ]
    },
    {
     "name": "stderr",
     "output_type": "stream",
     "text": [
      "Val error: 100%|██████████| 1441/1441 [06:30<00:00,  3.69it/s, rse=0.627, silog_err=0.362]\n"
     ]
    },
    {
     "name": "stdout",
     "output_type": "stream",
     "text": [
      "Val loss: silog: 0.3617, sq: 0.6272\n"
     ]
    },
    {
     "name": "stderr",
     "output_type": "stream",
     "text": [
      "Epoch 7/24: 100%|██████████| 3864/3864 [30:39<00:00,  2.10it/s, avg_loss=0.0498, loss=0.0325] \n"
     ]
    },
    {
     "name": "stdout",
     "output_type": "stream",
     "text": [
      "Epoch 7/24, Loss: 0.0498\n"
     ]
    },
    {
     "name": "stderr",
     "output_type": "stream",
     "text": [
      "Val error: 100%|██████████| 1441/1441 [06:26<00:00,  3.73it/s, rse=0.687, silog_err=0.373]\n"
     ]
    },
    {
     "name": "stdout",
     "output_type": "stream",
     "text": [
      "Val loss: silog: 0.3726, sq: 0.6873\n"
     ]
    },
    {
     "name": "stderr",
     "output_type": "stream",
     "text": [
      "Epoch 8/24: 100%|██████████| 3864/3864 [30:45<00:00,  2.09it/s, avg_loss=0.0426, loss=0.0144] \n"
     ]
    },
    {
     "name": "stdout",
     "output_type": "stream",
     "text": [
      "Epoch 8/24, Loss: 0.0426\n"
     ]
    },
    {
     "name": "stderr",
     "output_type": "stream",
     "text": [
      "Val error: 100%|██████████| 1441/1441 [06:42<00:00,  3.58it/s, rse=0.629, silog_err=0.356]\n"
     ]
    },
    {
     "name": "stdout",
     "output_type": "stream",
     "text": [
      "Val loss: silog: 0.3557, sq: 0.6292\n"
     ]
    },
    {
     "name": "stderr",
     "output_type": "stream",
     "text": [
      "Epoch 9/24: 100%|██████████| 3864/3864 [30:47<00:00,  2.09it/s, avg_loss=0.0388, loss=0.0385] \n"
     ]
    },
    {
     "name": "stdout",
     "output_type": "stream",
     "text": [
      "Epoch 9/24, Loss: 0.0388\n"
     ]
    },
    {
     "name": "stderr",
     "output_type": "stream",
     "text": [
      "Val error: 100%|██████████| 1441/1441 [06:22<00:00,  3.77it/s, rse=0.668, silog_err=0.377]\n"
     ]
    },
    {
     "name": "stdout",
     "output_type": "stream",
     "text": [
      "Val loss: silog: 0.3771, sq: 0.6675\n"
     ]
    },
    {
     "name": "stderr",
     "output_type": "stream",
     "text": [
      "Epoch 10/24: 100%|██████████| 3864/3864 [30:31<00:00,  2.11it/s, avg_loss=0.0319, loss=0.0283] \n"
     ]
    },
    {
     "name": "stdout",
     "output_type": "stream",
     "text": [
      "Epoch 10/24, Loss: 0.0319\n"
     ]
    },
    {
     "name": "stderr",
     "output_type": "stream",
     "text": [
      "Val error: 100%|██████████| 1441/1441 [06:22<00:00,  3.76it/s, rse=0.574, silog_err=0.342]\n"
     ]
    },
    {
     "name": "stdout",
     "output_type": "stream",
     "text": [
      "Val loss: silog: 0.3424, sq: 0.5744\n"
     ]
    },
    {
     "name": "stderr",
     "output_type": "stream",
     "text": [
      "Epoch 11/24: 100%|██████████| 3864/3864 [30:20<00:00,  2.12it/s, avg_loss=0.029, loss=0.0164]  \n"
     ]
    },
    {
     "name": "stdout",
     "output_type": "stream",
     "text": [
      "Epoch 11/24, Loss: 0.0290\n"
     ]
    },
    {
     "name": "stderr",
     "output_type": "stream",
     "text": [
      "Val error: 100%|██████████| 1441/1441 [06:12<00:00,  3.87it/s, rse=0.593, silog_err=0.349]\n"
     ]
    },
    {
     "name": "stdout",
     "output_type": "stream",
     "text": [
      "Val loss: silog: 0.3487, sq: 0.5931\n"
     ]
    },
    {
     "name": "stderr",
     "output_type": "stream",
     "text": [
      "Epoch 12/24: 100%|██████████| 3864/3864 [30:42<00:00,  2.10it/s, avg_loss=0.0257, loss=0.0176] \n"
     ]
    },
    {
     "name": "stdout",
     "output_type": "stream",
     "text": [
      "Epoch 12/24, Loss: 0.0257\n"
     ]
    },
    {
     "name": "stderr",
     "output_type": "stream",
     "text": [
      "Val error: 100%|██████████| 1441/1441 [06:20<00:00,  3.79it/s, rse=0.566, silog_err=0.336]\n"
     ]
    },
    {
     "name": "stdout",
     "output_type": "stream",
     "text": [
      "Val loss: silog: 0.3360, sq: 0.5661\n"
     ]
    },
    {
     "name": "stderr",
     "output_type": "stream",
     "text": [
      "Epoch 13/24: 100%|██████████| 3864/3864 [30:44<00:00,  2.10it/s, avg_loss=0.0231, loss=0.0135] \n"
     ]
    },
    {
     "name": "stdout",
     "output_type": "stream",
     "text": [
      "Epoch 13/24, Loss: 0.0231\n"
     ]
    },
    {
     "name": "stderr",
     "output_type": "stream",
     "text": [
      "Val error: 100%|██████████| 1441/1441 [06:31<00:00,  3.68it/s, rse=0.541, silog_err=0.331]\n"
     ]
    },
    {
     "name": "stdout",
     "output_type": "stream",
     "text": [
      "Val loss: silog: 0.3307, sq: 0.5411\n"
     ]
    },
    {
     "name": "stderr",
     "output_type": "stream",
     "text": [
      "Epoch 14/24: 100%|██████████| 3864/3864 [30:55<00:00,  2.08it/s, avg_loss=0.0222, loss=0.0267] \n"
     ]
    },
    {
     "name": "stdout",
     "output_type": "stream",
     "text": [
      "Epoch 14/24, Loss: 0.0222\n"
     ]
    },
    {
     "name": "stderr",
     "output_type": "stream",
     "text": [
      "Val error: 100%|██████████| 1441/1441 [06:29<00:00,  3.70it/s, rse=0.544, silog_err=0.325]\n"
     ]
    },
    {
     "name": "stdout",
     "output_type": "stream",
     "text": [
      "Val loss: silog: 0.3250, sq: 0.5435\n"
     ]
    },
    {
     "name": "stderr",
     "output_type": "stream",
     "text": [
      "Epoch 15/24: 100%|██████████| 3864/3864 [30:49<00:00,  2.09it/s, avg_loss=0.021, loss=0.0208]  \n"
     ]
    },
    {
     "name": "stdout",
     "output_type": "stream",
     "text": [
      "Epoch 15/24, Loss: 0.0210\n"
     ]
    },
    {
     "name": "stderr",
     "output_type": "stream",
     "text": [
      "Val error: 100%|██████████| 1441/1441 [06:21<00:00,  3.78it/s, rse=0.544, silog_err=0.324]\n"
     ]
    },
    {
     "name": "stdout",
     "output_type": "stream",
     "text": [
      "Val loss: silog: 0.3240, sq: 0.5436\n"
     ]
    },
    {
     "name": "stderr",
     "output_type": "stream",
     "text": [
      "Epoch 16/24: 100%|██████████| 3864/3864 [30:33<00:00,  2.11it/s, avg_loss=0.0197, loss=0.00329]\n"
     ]
    },
    {
     "name": "stdout",
     "output_type": "stream",
     "text": [
      "Epoch 16/24, Loss: 0.0197\n"
     ]
    },
    {
     "name": "stderr",
     "output_type": "stream",
     "text": [
      "Val error: 100%|██████████| 1441/1441 [06:28<00:00,  3.71it/s, rse=0.537, silog_err=0.321]\n"
     ]
    },
    {
     "name": "stdout",
     "output_type": "stream",
     "text": [
      "Val loss: silog: 0.3205, sq: 0.5365\n"
     ]
    },
    {
     "name": "stderr",
     "output_type": "stream",
     "text": [
      "Epoch 17/24: 100%|██████████| 3864/3864 [30:30<00:00,  2.11it/s, avg_loss=0.0181, loss=0.0107] \n",
      "Val error: 100%|██████████| 1441/1441 [06:19<00:00,  3.80it/s, rse=0.526, silog_err=0.316]\n"
     ]
    },
    {
     "name": "stdout",
     "output_type": "stream",
     "text": [
      "Val loss: silog: 0.3157, sq: 0.5265\n"
     ]
    },
    {
     "name": "stderr",
     "output_type": "stream",
     "text": [
      "Epoch 18/24: 100%|██████████| 3864/3864 [30:22<00:00,  2.12it/s, avg_loss=0.017, loss=0.0183]  \n"
     ]
    },
    {
     "name": "stdout",
     "output_type": "stream",
     "text": [
      "Epoch 18/24, Loss: 0.0170\n"
     ]
    },
    {
     "name": "stderr",
     "output_type": "stream",
     "text": [
      "Val error: 100%|██████████| 1441/1441 [06:23<00:00,  3.76it/s, rse=0.52, silog_err=0.316] \n"
     ]
    },
    {
     "name": "stdout",
     "output_type": "stream",
     "text": [
      "Val loss: silog: 0.3159, sq: 0.5195\n"
     ]
    },
    {
     "name": "stderr",
     "output_type": "stream",
     "text": [
      "Epoch 19/24: 100%|██████████| 3864/3864 [30:26<00:00,  2.12it/s, avg_loss=0.016, loss=0.00541] \n"
     ]
    },
    {
     "name": "stdout",
     "output_type": "stream",
     "text": [
      "Epoch 19/24, Loss: 0.0160\n"
     ]
    },
    {
     "name": "stderr",
     "output_type": "stream",
     "text": [
      "Val error: 100%|██████████| 1441/1441 [06:26<00:00,  3.73it/s, rse=0.531, silog_err=0.315]\n"
     ]
    },
    {
     "name": "stdout",
     "output_type": "stream",
     "text": [
      "Val loss: silog: 0.3147, sq: 0.5315\n"
     ]
    },
    {
     "name": "stderr",
     "output_type": "stream",
     "text": [
      "Epoch 20/24: 100%|██████████| 3864/3864 [30:43<00:00,  2.10it/s, avg_loss=0.0153, loss=0.0101] \n"
     ]
    },
    {
     "name": "stdout",
     "output_type": "stream",
     "text": [
      "Epoch 20/24, Loss: 0.0153\n"
     ]
    },
    {
     "name": "stderr",
     "output_type": "stream",
     "text": [
      "Val error: 100%|██████████| 1441/1441 [06:22<00:00,  3.76it/s, rse=0.514, silog_err=0.311]\n"
     ]
    },
    {
     "name": "stdout",
     "output_type": "stream",
     "text": [
      "Val loss: silog: 0.3105, sq: 0.5136\n"
     ]
    },
    {
     "name": "stderr",
     "output_type": "stream",
     "text": [
      "Epoch 21/24: 100%|██████████| 3864/3864 [30:30<00:00,  2.11it/s, avg_loss=0.0146, loss=0.00576]\n"
     ]
    },
    {
     "name": "stdout",
     "output_type": "stream",
     "text": [
      "Epoch 21/24, Loss: 0.0146\n"
     ]
    },
    {
     "name": "stderr",
     "output_type": "stream",
     "text": [
      "Val error: 100%|██████████| 1441/1441 [06:19<00:00,  3.80it/s, rse=0.498, silog_err=0.309]\n"
     ]
    },
    {
     "name": "stdout",
     "output_type": "stream",
     "text": [
      "Val loss: silog: 0.3092, sq: 0.4977\n"
     ]
    },
    {
     "name": "stderr",
     "output_type": "stream",
     "text": [
      "Epoch 22/24: 100%|██████████| 3864/3864 [30:36<00:00,  2.10it/s, avg_loss=0.014, loss=0.00945] \n"
     ]
    },
    {
     "name": "stdout",
     "output_type": "stream",
     "text": [
      "Epoch 22/24, Loss: 0.0140\n"
     ]
    },
    {
     "name": "stderr",
     "output_type": "stream",
     "text": [
      "Val error: 100%|██████████| 1441/1441 [06:26<00:00,  3.73it/s, rse=0.498, silog_err=0.308]\n"
     ]
    },
    {
     "name": "stdout",
     "output_type": "stream",
     "text": [
      "Val loss: silog: 0.3076, sq: 0.4984\n"
     ]
    },
    {
     "name": "stderr",
     "output_type": "stream",
     "text": [
      "Epoch 23/24: 100%|██████████| 3864/3864 [30:30<00:00,  2.11it/s, avg_loss=0.0135, loss=0.025]  \n"
     ]
    },
    {
     "name": "stdout",
     "output_type": "stream",
     "text": [
      "Epoch 23/24, Loss: 0.0135\n"
     ]
    },
    {
     "name": "stderr",
     "output_type": "stream",
     "text": [
      "Val error: 100%|██████████| 1441/1441 [06:21<00:00,  3.78it/s, rse=0.49, silog_err=0.305] \n"
     ]
    },
    {
     "name": "stdout",
     "output_type": "stream",
     "text": [
      "Val loss: silog: 0.3050, sq: 0.4899\n"
     ]
    },
    {
     "name": "stderr",
     "output_type": "stream",
     "text": [
      "Epoch 24/24: 100%|██████████| 3864/3864 [30:21<00:00,  2.12it/s, avg_loss=0.0131, loss=0.0397] \n"
     ]
    },
    {
     "name": "stdout",
     "output_type": "stream",
     "text": [
      "Epoch 24/24, Loss: 0.0131\n"
     ]
    },
    {
     "name": "stderr",
     "output_type": "stream",
     "text": [
      "Val error: 100%|██████████| 1441/1441 [06:24<00:00,  3.75it/s, rse=0.493, silog_err=0.305]"
     ]
    },
    {
     "name": "stdout",
     "output_type": "stream",
     "text": [
      "Val loss: silog: 0.3054, sq: 0.4929\n"
     ]
    },
    {
     "name": "stderr",
     "output_type": "stream",
     "text": [
      "\n"
     ]
    }
   ],
   "source": [
    "da_fine_tuner.fine_tune(n_epochs=24, checkpoint_path=workspace_path)"
   ]
  },
  {
   "cell_type": "code",
   "execution_count": 10,
   "id": "5f273adb-31fe-497a-a27e-9047850c858f",
   "metadata": {},
   "outputs": [
    {
     "name": "stderr",
     "output_type": "stream",
     "text": [
      "Pred train: 100%|██████████| 3864/3864 [20:03<00:00,  3.21it/s]\n",
      "Pred valid: 100%|██████████| 1441/1441 [07:30<00:00,  3.20it/s]\n",
      "Pred test: 100%|██████████| 1423/1423 [07:37<00:00,  3.11it/s]\n"
     ]
    }
   ],
   "source": [
    "# Write predictions\n",
    "\n",
    "import cv2\n",
    "from tqdm import tqdm\n",
    "import os\n",
    "from pathlib import Path\n",
    "\n",
    "train_img_path = workspace_path / 'train_images'\n",
    "train_pred_path = workspace_path / 'train_pred'\n",
    "train_pred_path.mkdir()\n",
    "for filename in tqdm(os.listdir(train_img_path), desc=f\"Pred train\", leave=True):\n",
    "    depth = da_fine_tuner.predict(train_img_path / filename)\n",
    "    cv2.imwrite(str(train_pred_path / filename), depth)\n",
    "\n",
    "valid_img_path = workspace_path / 'valid_images'\n",
    "valid_pred_path = workspace_path / 'valid_pred'\n",
    "valid_pred_path.mkdir()\n",
    "for filename in tqdm(os.listdir(valid_img_path), desc=f\"Pred valid\", leave=True):\n",
    "    depth = da_fine_tuner.predict(valid_img_path / filename)\n",
    "    cv2.imwrite(str(valid_pred_path / filename), depth)\n",
    "\n",
    "test_img_path = workspace_path / 'test_images'\n",
    "test_pred_path = workspace_path / 'test_pred'\n",
    "test_pred_path.mkdir()\n",
    "for filename in tqdm(os.listdir(test_img_path), desc=f\"Pred test\", leave=True):\n",
    "    depth = da_fine_tuner.predict(test_img_path / filename)\n",
    "    cv2.imwrite(str(test_pred_path / filename), depth)"
   ]
  },
  {
   "cell_type": "markdown",
   "id": "9d8547ab-79da-4d20-a6b3-53574fce41d1",
   "metadata": {},
   "source": [
    "## Fine tune predictions for players"
   ]
  },
  {
   "cell_type": "code",
   "execution_count": 11,
   "id": "cd76a46d-c8c9-43a7-b860-3ed672777df2",
   "metadata": {},
   "outputs": [],
   "source": [
    "from pathlib import Path"
   ]
  },
  {
   "cell_type": "code",
   "execution_count": 12,
   "id": "c1956a8f-b632-420b-bf52-c96c87f7b5c7",
   "metadata": {},
   "outputs": [
    {
     "name": "stdout",
     "output_type": "stream",
     "text": [
      "Creating new Ultralytics Settings v0.0.6 file ✅ \n",
      "View Ultralytics Settings with 'yolo settings' or at '/root/.config/Ultralytics/settings.json'\n",
      "Update Settings with 'yolo settings key=value', i.e. 'yolo settings runs_dir=path/to/dir'. For help see https://docs.ultralytics.com/quickstart/#ultralytics-settings.\n"
     ]
    }
   ],
   "source": [
    "from players_fine_tuning.segment import PlayerSegmenter"
   ]
  },
  {
   "cell_type": "code",
   "execution_count": 13,
   "id": "33810b8e-b040-4782-9be4-2289fda7d838",
   "metadata": {},
   "outputs": [
    {
     "name": "stdout",
     "output_type": "stream",
     "text": [
      "Downloading https://github.com/ultralytics/assets/releases/download/v8.3.0/yolov8x-seg.pt to 'yolov8x-seg.pt'...\n"
     ]
    },
    {
     "name": "stderr",
     "output_type": "stream",
     "text": [
      "100%|██████████| 137M/137M [00:02<00:00, 68.3MB/s] \n"
     ]
    }
   ],
   "source": [
    "segmenter = PlayerSegmenter()"
   ]
  },
  {
   "cell_type": "code",
   "execution_count": 14,
   "id": "910cd3ca-22d4-46db-9020-ef883eb51620",
   "metadata": {},
   "outputs": [
    {
     "name": "stderr",
     "output_type": "stream",
     "text": [
      "Process segmentation: 100%|██████████| 3864/3864 [24:49<00:00,  2.59it/s]\n",
      "Process segmentation: 100%|██████████| 1441/1441 [09:22<00:00,  2.56it/s]\n",
      "Process segmentation: 100%|██████████| 1423/1423 [09:16<00:00,  2.56it/s]\n"
     ]
    }
   ],
   "source": [
    "train_segments_path = workspace_path / 'train_segments'\n",
    "val_segments_path = workspace_path / 'valid_segments'\n",
    "test_segments_path = workspace_path / 'test_segments'\n",
    "\n",
    "train_segments_path.mkdir(), val_segments_path.mkdir(), test_segments_path.mkdir()\n",
    "\n",
    "segmenter.segment(workspace_path / 'train_images', train_segments_path)\n",
    "segmenter.segment(workspace_path / 'valid_images', val_segments_path)\n",
    "segmenter.segment(workspace_path / 'test_images', test_segments_path)"
   ]
  },
  {
   "cell_type": "code",
   "execution_count": 15,
   "id": "8b421d55-c43b-4c47-9562-8347c3b8ffe9",
   "metadata": {},
   "outputs": [],
   "source": [
    "from players_fine_tuning.dataset_preparer import DatasetPreparer\n",
    "\n",
    "player_ds_preparer = DatasetPreparer(\n",
    "    train_segments_path = Path(train_segments_path),\n",
    "    val_segments_path = Path(val_segments_path),\n",
    "    test_segments_path = Path(test_segments_path),\n",
    "\n",
    "    train_orig_depth_path = workspace_path / 'train_depths',\n",
    "    val_orig_depth_path = workspace_path / 'valid_depths',\n",
    "    test_orig_depth_path = workspace_path / 'test_depths',\n",
    "\n",
    "    train_pred_path = train_pred_path,\n",
    "    val_pred_path = valid_pred_path,\n",
    "    test_pred_path = test_pred_path,\n",
    ")"
   ]
  },
  {
   "cell_type": "code",
   "execution_count": 16,
   "id": "72171daf-d7da-48e7-a61e-55d6ad1584ae",
   "metadata": {},
   "outputs": [
    {
     "name": "stderr",
     "output_type": "stream",
     "text": [
      "Process train_segments: 100%|██████████| 3864/3864 [04:41<00:00, 13.74it/s]\n",
      "Process valid_segments: 100%|██████████| 1441/1441 [01:51<00:00, 12.94it/s]\n",
      "Process test_segments: 100%|██████████| 1423/1423 [01:50<00:00, 12.89it/s]\n"
     ]
    }
   ],
   "source": [
    "player_ds_preparer.prepare_dataset()"
   ]
  },
  {
   "cell_type": "code",
   "execution_count": 17,
   "id": "ce2d504c-0c63-46c6-9733-4fbf83303c7d",
   "metadata": {},
   "outputs": [],
   "source": [
    "from pathlib import Path\n",
    "\n",
    "from players_fine_tuning.player_fine_tuner import PlayerFineTuner\n",
    "\n",
    "player_fine_tuner = PlayerFineTuner(workspace_path / 'train_segments', workspace_path / 'valid_segments')"
   ]
  },
  {
   "cell_type": "code",
   "execution_count": 18,
   "id": "bb141901-8958-4b65-815b-100c176df044",
   "metadata": {
    "scrolled": true
   },
   "outputs": [
    {
     "name": "stderr",
     "output_type": "stream",
     "text": [
      "Epoch 1/10: 100%|██████████| 3389/3389 [03:04<00:00, 18.33it/s, avg_loss=0.000139, loss=0.000114]\n"
     ]
    },
    {
     "name": "stdout",
     "output_type": "stream",
     "text": [
      "Epoch 1/10, Loss: 0.0001\n"
     ]
    },
    {
     "name": "stderr",
     "output_type": "stream",
     "text": [
      "Val error: 100%|██████████| 334/334 [00:47<00:00,  7.10it/s, loss=0.000134]\n"
     ]
    },
    {
     "name": "stdout",
     "output_type": "stream",
     "text": [
      "Val loss: 0.00013426, self._best_score=0.00013425593441028098\n"
     ]
    },
    {
     "name": "stderr",
     "output_type": "stream",
     "text": [
      "Epoch 2/10: 100%|██████████| 3389/3389 [03:02<00:00, 18.58it/s, avg_loss=0.000119, loss=8.4e-5]  \n"
     ]
    },
    {
     "name": "stdout",
     "output_type": "stream",
     "text": [
      "Epoch 2/10, Loss: 0.0001\n"
     ]
    },
    {
     "name": "stderr",
     "output_type": "stream",
     "text": [
      "Val error: 100%|██████████| 334/334 [00:45<00:00,  7.30it/s, loss=0.000127]\n"
     ]
    },
    {
     "name": "stdout",
     "output_type": "stream",
     "text": [
      "Val loss: 0.00012673, self._best_score=0.00012672815675265854\n"
     ]
    },
    {
     "name": "stderr",
     "output_type": "stream",
     "text": [
      "Epoch 3/10:  71%|███████▏  | 2422/3389 [02:09<00:55, 17.45it/s, avg_loss=0.000112, loss=0.000127]IOPub message rate exceeded.\n",
      "The Jupyter server will temporarily stop sending output\n",
      "to the client in order to avoid crashing it.\n",
      "To change this limit, set the config variable\n",
      "`--ServerApp.iopub_msg_rate_limit`.\n",
      "\n",
      "Current values:\n",
      "ServerApp.iopub_msg_rate_limit=1000.0 (msgs/sec)\n",
      "ServerApp.rate_limit_window=3.0 (secs)\n",
      "\n",
      "Epoch 5/10: 100%|██████████| 3389/3389 [03:02<00:00, 18.53it/s, avg_loss=0.000102, loss=0.000119]\n"
     ]
    },
    {
     "name": "stdout",
     "output_type": "stream",
     "text": [
      "Epoch 5/10, Loss: 0.0001\n"
     ]
    },
    {
     "name": "stderr",
     "output_type": "stream",
     "text": [
      "Val error: 100%|██████████| 334/334 [00:45<00:00,  7.36it/s, loss=0.000121]\n"
     ]
    },
    {
     "name": "stdout",
     "output_type": "stream",
     "text": [
      "Val loss: 0.00012060, self._best_score=0.00012060074767144536\n"
     ]
    },
    {
     "name": "stderr",
     "output_type": "stream",
     "text": [
      "Epoch 6/10: 100%|██████████| 3389/3389 [02:59<00:00, 18.88it/s, avg_loss=9.8e-5, loss=0.00013]  \n"
     ]
    },
    {
     "name": "stdout",
     "output_type": "stream",
     "text": [
      "Epoch 6/10, Loss: 0.0001\n"
     ]
    },
    {
     "name": "stderr",
     "output_type": "stream",
     "text": [
      "Val error: 100%|██████████| 334/334 [00:45<00:00,  7.26it/s, loss=0.000119]\n"
     ]
    },
    {
     "name": "stdout",
     "output_type": "stream",
     "text": [
      "Val loss: 0.00011936, self._best_score=0.00011935952308791282\n"
     ]
    },
    {
     "name": "stderr",
     "output_type": "stream",
     "text": [
      "Epoch 7/10: 100%|██████████| 3389/3389 [03:02<00:00, 18.60it/s, avg_loss=9.41e-5, loss=7.38e-5] \n"
     ]
    },
    {
     "name": "stdout",
     "output_type": "stream",
     "text": [
      "Epoch 7/10, Loss: 0.0001\n"
     ]
    },
    {
     "name": "stderr",
     "output_type": "stream",
     "text": [
      "Val error: 100%|██████████| 334/334 [00:49<00:00,  6.81it/s, loss=0.00012] \n"
     ]
    },
    {
     "name": "stdout",
     "output_type": "stream",
     "text": [
      "Val loss: 0.00011965, self._best_score=0.00011935952308791282\n"
     ]
    },
    {
     "name": "stderr",
     "output_type": "stream",
     "text": [
      "Epoch 8/10: 100%|██████████| 3389/3389 [02:55<00:00, 19.29it/s, avg_loss=8.99e-5, loss=8.17e-5] \n"
     ]
    },
    {
     "name": "stdout",
     "output_type": "stream",
     "text": [
      "Epoch 8/10, Loss: 0.0001\n"
     ]
    },
    {
     "name": "stderr",
     "output_type": "stream",
     "text": [
      "Val error: 100%|██████████| 334/334 [00:47<00:00,  6.98it/s, loss=0.00012] \n"
     ]
    },
    {
     "name": "stdout",
     "output_type": "stream",
     "text": [
      "Val loss: 0.00012020, self._best_score=0.00011935952308791282\n"
     ]
    },
    {
     "name": "stderr",
     "output_type": "stream",
     "text": [
      "Epoch 9/10: 100%|██████████| 3389/3389 [02:56<00:00, 19.23it/s, avg_loss=8.66e-5, loss=7.42e-5] \n"
     ]
    },
    {
     "name": "stdout",
     "output_type": "stream",
     "text": [
      "Epoch 9/10, Loss: 0.0001\n"
     ]
    },
    {
     "name": "stderr",
     "output_type": "stream",
     "text": [
      "Val error: 100%|██████████| 334/334 [00:50<00:00,  6.67it/s, loss=0.000121]\n"
     ]
    },
    {
     "name": "stdout",
     "output_type": "stream",
     "text": [
      "Val loss: 0.00012109, self._best_score=0.00011935952308791282\n"
     ]
    },
    {
     "name": "stderr",
     "output_type": "stream",
     "text": [
      "Epoch 10/10: 100%|██████████| 3389/3389 [03:04<00:00, 18.36it/s, avg_loss=8.27e-5, loss=9.36e-5] \n"
     ]
    },
    {
     "name": "stdout",
     "output_type": "stream",
     "text": [
      "Epoch 10/10, Loss: 0.0001\n"
     ]
    },
    {
     "name": "stderr",
     "output_type": "stream",
     "text": [
      "Val error: 100%|██████████| 334/334 [00:50<00:00,  6.61it/s, loss=0.000121]\n"
     ]
    },
    {
     "name": "stdout",
     "output_type": "stream",
     "text": [
      "Val loss: 0.00012139, self._best_score=0.00011935952308791282\n"
     ]
    }
   ],
   "source": [
    "player_fine_tuner.fine_tune(n_epochs=10)"
   ]
  },
  {
   "cell_type": "code",
   "execution_count": 19,
   "id": "c5542889-b5eb-4bf6-b8b9-ba510f13ae1d",
   "metadata": {},
   "outputs": [],
   "source": [
    "player_fine_tuner.save(workspace_path / 'player_ft.pth')"
   ]
  },
  {
   "cell_type": "markdown",
   "id": "8d8239cb-8e5e-4783-a3df-005d0e3ebd3b",
   "metadata": {},
   "source": [
    "## Apply fine tuned players depths"
   ]
  },
  {
   "cell_type": "code",
   "execution_count": 20,
   "id": "d0632a11-9d9c-4936-a5f7-dc9a5da4e0d6",
   "metadata": {},
   "outputs": [
    {
     "name": "stderr",
     "output_type": "stream",
     "text": [
      "Predict: 100%|██████████| 1423/1423 [04:17<00:00,  5.53it/s]\n"
     ]
    }
   ],
   "source": [
    "import os\n",
    "import numpy as np\n",
    "import torch\n",
    "import tempfile\n",
    "from torch.nn import functional as F\n",
    "\n",
    "from players_fine_tuning.dataset_loader import PlayerDataset\n",
    "\n",
    "masks_path = workspace_path / 'test_segments' / 'masks'\n",
    "\n",
    "results_path = workspace_path / 'results'\n",
    "results_path.mkdir()\n",
    "\n",
    "group_by_name = {}\n",
    "for filename in os.listdir(masks_path):\n",
    "    name = '_'.join(filename.split('_')[:3])\n",
    "    if name not in group_by_name:\n",
    "        group_by_name[name] = []\n",
    "    group_by_name[name].append(filename)\n",
    "\n",
    "for group_name, filenames in tqdm(group_by_name.items(), desc=f'Predict', leave=True):\n",
    "\n",
    "    depth = cv2.imread(str(workspace_path / 'test_pred' / f'{group_name}.png'), cv2.IMREAD_UNCHANGED)\n",
    "    depth = depth / 255 ** 2\n",
    "    depth = depth - depth.min()\n",
    "    depth = depth / depth.max()\n",
    "\n",
    "    for filename in filenames:\n",
    "        mask = np.load(masks_path / filename)\n",
    "        x1, y1, x2, y2 = map(int, filename.replace('.npy', '').split('_')[3:])\n",
    "\n",
    "        player_depth = PlayerDataset.load_image(workspace_path / 'test_segments' / 'depths' / filename, PlayerDataset.SIZE)\n",
    "        player_depth = player_depth.unsqueeze(0).unsqueeze(0).to('cuda')\n",
    "        with torch.no_grad():\n",
    "            pred = player_fine_tuner.predict(player_depth)\n",
    "\n",
    "        pred = F.interpolate(pred, (y2-y1, x2-x1), mode='bilinear', align_corners=False)\n",
    "        \n",
    "        pred = pred.squeeze(0).squeeze(0).cpu().numpy()\n",
    "        depth[y1:y2, x1:x2][mask] += pred[mask] / 2\n",
    "\n",
    "    depth = np.round(depth * 255 ** 2).astype(np.uint16)\n",
    "\n",
    "    _, game_id, idx = group_name.split('_')\n",
    "    filename = f'foot_game_{game_id}_video_1_depth_r_{idx}.png'\n",
    "    cv2.imwrite(str(results_path / filename), depth)"
   ]
  },
  {
   "cell_type": "markdown",
   "id": "5cfde33d-41c8-41f3-933e-331fdbe561e6",
   "metadata": {},
   "source": [
    "## Evaluate on test set"
   ]
  },
  {
   "cell_type": "code",
   "execution_count": 21,
   "id": "e884fcc4-58da-4b83-b170-91bfb85f5ee9",
   "metadata": {},
   "outputs": [
    {
     "name": "stderr",
     "output_type": "stream",
     "text": [
      "Final val: 100%|██████████| 1423/1423 [02:10<00:00, 10.90it/s]"
     ]
    },
    {
     "name": "stdout",
     "output_type": "stream",
     "text": [
      "MSE: 0.00000301, silog: 0.25562687\n"
     ]
    },
    {
     "name": "stderr",
     "output_type": "stream",
     "text": [
      "\n"
     ]
    }
   ],
   "source": [
    "from utils.misc import compute_scale_and_shift_np\n",
    "\n",
    "gt_path = workspace_path / 'test_depths'\n",
    "pred_path = workspace_path / 'results'\n",
    "mask_path = workspace_path / 'test_masks'\n",
    "\n",
    "mse_err, silog_err, cnt = 0.0, 0.0, 0\n",
    "\n",
    "for filename in tqdm(os.listdir(gt_path), desc=f'Final val', leave=True):\n",
    "    gt = cv2.imread(gt_path / filename, cv2.IMREAD_UNCHANGED) / 255 ** 2\n",
    "    _, game_id, idx = filename.replace('.png', '').split('_')\n",
    "    pred_filename = f'foot_game_{game_id}_video_1_depth_r_{idx}.png'\n",
    "    pred = cv2.imread(pred_path / pred_filename, cv2.IMREAD_UNCHANGED) / 255 ** 2\n",
    "    mask = ~np.load(mask_path / filename.replace('.png', '.npy'))\n",
    "    scale, shift = compute_scale_and_shift_np(pred, gt, mask.astype(np.float32))\n",
    "    pred = scale * pred + shift\n",
    "    mse_err += ((pred - gt) ** 2)[mask].mean()\n",
    "    log_err = np.log(pred) - np.log(gt)\n",
    "    silog_err += np.sqrt(np.mean(log_err ** 2) - np.mean(log_err) ** 2) * 100\n",
    "\n",
    "print(f'MSE: {(mse_err / len(os.listdir(gt_path))):.8f}, silog: {(silog_err / len(os.listdir(gt_path))):.8f}')"
   ]
  },
  {
   "cell_type": "code",
   "execution_count": null,
   "id": "212d172b-23cc-4cef-8100-cd5fdfcf7355",
   "metadata": {},
   "outputs": [],
   "source": []
  }
 ],
 "metadata": {
  "kernelspec": {
   "display_name": "Python 3 (ipykernel)",
   "language": "python",
   "name": "python3"
  },
  "language_info": {
   "codemirror_mode": {
    "name": "ipython",
    "version": 3
   },
   "file_extension": ".py",
   "mimetype": "text/x-python",
   "name": "python",
   "nbconvert_exporter": "python",
   "pygments_lexer": "ipython3",
   "version": "3.10.12"
  }
 },
 "nbformat": 4,
 "nbformat_minor": 5
}
